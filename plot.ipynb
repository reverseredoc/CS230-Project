{
 "cells": [
  {
   "cell_type": "code",
   "execution_count": 1,
   "metadata": {},
   "outputs": [],
   "source": [
    "import numpy as np\n",
    "import matplotlib.pyplot as plt\n",
    "import random\n",
    "import matplotlib.colors as mcolors"
   ]
  },
  {
   "cell_type": "code",
   "execution_count": 2,
   "metadata": {},
   "outputs": [],
   "source": [
    "BASE_BFS=0.169707\n",
    "BASE_SSSP=0.290947\n",
    "bfs_pang_hawk=0.385745\n",
    "bfs_fm_hawk=0.402416\n",
    "bfs_fm_mj=0.404577\n",
    "bfs_pang_mj=0.43354"
   ]
  },
  {
   "cell_type": "code",
   "execution_count": 3,
   "metadata": {},
   "outputs": [],
   "source": [
    "bfs_fm_repl={\"fifo\":0.395115, \"lfu\":0.396449, \"mockingjay\":0.404577,\"random\":0.396601,\"ship\":0.402946, \n",
    "             \"mru\":0.394148, \"srrip\":0.399262 , \"hawk\": 0.402416, \"lru\": 0.398455,\n",
    "               \"drrip\":0.397157  }\n",
    "bfs_hierarchy={\"inclusive\":0.25234, \"exclusive\":0.366644, \"non-inclusive\":0.402416}\n",
    "bfs_pref_mj={\"berti\":  0.383126, \"bop_fm\":0.404577, \"ipcp\":0.402819, \"next line\":0.354392, \"pangloss\":0.43354, \n",
    "             \"sangam\":0.404559, \"team12\": 0.39047, \"tskid\": 0.392695}\n",
    "bfsfm_hawk={\"Base\":bfs_fm_hawk,\"2-0.5\":0.402583,\"4-0.25\":0.402985, \"8-0.125\": 0.402084}"
   ]
  },
  {
   "attachments": {},
   "cell_type": "markdown",
   "metadata": {},
   "source": [
    "#### SSSP Plots"
   ]
  },
  {
   "cell_type": "code",
   "execution_count": 11,
   "metadata": {},
   "outputs": [],
   "source": [
    "sssp_pang_repl={\"fifo\":0.332192, \"lfu\":0.382017, \"mockingjay\":0.382324,\"random\":0.335603,\"ship\":0.371643, \n",
    "             \"srrip\":0.353382 , \"hawk\":0.363023 , \"lru\": 0.340736, \"drrip\":0.382313, \"mru\":0.278608 }\n",
    "sssp_fm_repl={\"fifo\":0.339045, \"lfu\":0.387745, \"mockingjay\":0.391091,\"random\":0.342352,\"ship\":0.377889, \n",
    "             \"srrip\":0.361247 , \"hawk\": 0.365469, \"lru\": 0.347033, \"drrip\":0.390526, \"mru\":0.286482 }\n",
    "sssp_hierarchy={\"inclusive\":0.339743 , \"exclusive\":0.349369, \"non-inclusive\":0.365469}\n",
    "ssspfm_hawk={\"Base\":sssp_fm_repl[\"hawk\"],\"2-0.5\": 0.367718,\"4-0.25\":0.303698, \"8-0.125\": 0.287845}\n"
   ]
  },
  {
   "cell_type": "code",
   "execution_count": 387,
   "metadata": {},
   "outputs": [
    {
     "data": {
      "text/plain": [
       "''"
      ]
     },
     "execution_count": 387,
     "metadata": {},
     "output_type": "execute_result"
    }
   ],
   "source": [
    "plt.figure(figsize=(8,5))\n",
    "obj1=sssp_pang_repl\n",
    "obj={k:v for k,v in sorted(obj1.items(), key=lambda item: item[1])}\n",
    "num_bars=len(obj1)\n",
    "gradient_range = np.linspace(0.3, 1, num_bars)\n",
    "colors = plt.cm.Blues(gradient_range)\n",
    "cmap = mcolors.ListedColormap(colors)\n",
    "y=np.array(list(obj.values()))/BASE_SSSP\n",
    "plt.bar([i for i in range(len(obj))],y, color=cmap(gradient_range))\n",
    "if(min(y)>0):\n",
    "    lowerlim=0.9*min(y)\n",
    "else:\n",
    "    lowerlim=1.1*min(y)\n",
    "plt.ylim(lowerlim,1.1*max(y))\n",
    "plt.xlabel(\"Replacement Policies\")\n",
    "plt.ylabel(\"Relative Speedup\")\n",
    "plt.xticks([i for i in range(num_bars)], obj.keys())\n",
    "plt.title(\"SSSP-14 Trace with Pangloss Prefetcher\")\n",
    "plt.savefig(\"sssp_pang_repl.jpg\",dpi=200)\n",
    "plt.close()\n",
    ";\n"
   ]
  },
  {
   "cell_type": "code",
   "execution_count": 388,
   "metadata": {},
   "outputs": [
    {
     "data": {
      "text/plain": [
       "''"
      ]
     },
     "execution_count": 388,
     "metadata": {},
     "output_type": "execute_result"
    }
   ],
   "source": [
    "plt.figure(figsize=(8,5))\n",
    "obj1=sssp_fm_repl\n",
    "obj={k:v for k,v in sorted(obj1.items(), key=lambda item: item[1])}\n",
    "num_bars=len(obj1)\n",
    "gradient_range = np.linspace(0.3, 1, num_bars)\n",
    "colors = plt.cm.Blues(gradient_range)\n",
    "cmap = mcolors.ListedColormap(colors)\n",
    "y=np.array(list(obj.values()))/BASE_SSSP\n",
    "plt.bar([i for i in range(len(obj))],y, color=cmap(gradient_range))\n",
    "if(min(y)>0):\n",
    "    lowerlim=0.9*min(y)\n",
    "else:\n",
    "    lowerlim=1.1*min(y)\n",
    "plt.ylim(lowerlim,1.1*max(y))\n",
    "plt.xlabel(\"Replacement Policies\")\n",
    "plt.ylabel(\"Relative Speedup\")\n",
    "plt.xticks([i for i in range(num_bars)], obj.keys())\n",
    "plt.title(\"SSSP-14 Trace with BOP_FM\")\n",
    "plt.savefig(\"sssp_fm_repl.jpg\",dpi=200)\n",
    "plt.close()\n",
    ";\n"
   ]
  },
  {
   "cell_type": "code",
   "execution_count": 389,
   "metadata": {},
   "outputs": [],
   "source": [
    "plt.plot([1,2,3],bfs_hierarchy.values(),'bo')\n",
    "plt.plot([1,2,3],bfs_hierarchy.values(),'b--')\n",
    "plt.xlabel(\"Cache Hierarchy\")\n",
    "plt.ylabel(\"IPC\")\n",
    "plt.title(\"BFS 14 Trace\")\n",
    "plt.xticks([1,2,3],bfs_hierarchy.keys())\n",
    "plt.savefig(\"hier_bfs.jpg\",dpi=200)\n",
    "plt.close();"
   ]
  },
  {
   "cell_type": "code",
   "execution_count": 390,
   "metadata": {},
   "outputs": [],
   "source": [
    "plt.plot([1,2,3],sssp_hierarchy.values(),'bo')\n",
    "plt.plot([1,2,3],sssp_hierarchy.values(),'b--')\n",
    "plt.xlabel(\"Cache Hierarchy\")\n",
    "plt.ylabel(\"IPC\")\n",
    "plt.title(\"SSSP 14 Trace\")\n",
    "plt.xticks([1,2,3],bfs_hierarchy.keys())\n",
    "plt.savefig(\"sssp_hier.jpg\",dpi=200)\n",
    "plt.close();"
   ]
  },
  {
   "cell_type": "code",
   "execution_count": 391,
   "metadata": {},
   "outputs": [
    {
     "data": {
      "text/plain": [
       "''"
      ]
     },
     "execution_count": 391,
     "metadata": {},
     "output_type": "execute_result"
    }
   ],
   "source": [
    "plt.figure(figsize=(8,5))\n",
    "obj1=sssp_pang_repl\n",
    "obj={k:v for k,v in sorted(obj1.items(), key=lambda item: item[1])}\n",
    "obj3=sssp_fm_repl\n",
    "obj2={k:v for k,v in sorted(obj3.items(), key=lambda item: item[1])}\n",
    "num_bars=len(obj1)\n",
    "y1=np.array(list(obj.values()))/BASE_SSSP\n",
    "y2=np.array(list(obj2.values()))/BASE_SSSP\n",
    "plt.bar([i-0.2 for i in range(len(obj))],y1,0.4, color=\"orange\")\n",
    "plt.bar([i+0.2 for i in range(len(obj))],y2,0.4, color=\"blue\")\n",
    "upperlim=max(max(y1),max(y2))\n",
    "lowerlim=min(min(y1),min(y2))\n",
    "if(lowerlim>0):\n",
    "    lowerlim=0.9*lowerlim\n",
    "else:\n",
    "    lowerlim=1.1*lowerlim\n",
    "plt.ylim(lowerlim,1.1*upperlim)\n",
    "plt.xlabel(\"Replacement Policies\")\n",
    "plt.ylabel(\"Relative Speedup\")\n",
    "plt.xticks([i for i in range(num_bars)], obj.keys())\n",
    "plt.title(\"SSSP-14 Trace\")\n",
    "plt.legend([\"Pangloss\",\"BOP_FM\"])\n",
    "plt.savefig(\"sssp_pang_fm.jpg\",dpi=200)\n",
    "plt.close()\n",
    ";\n"
   ]
  },
  {
   "cell_type": "code",
   "execution_count": 392,
   "metadata": {},
   "outputs": [
    {
     "data": {
      "text/plain": [
       "''"
      ]
     },
     "execution_count": 392,
     "metadata": {},
     "output_type": "execute_result"
    }
   ],
   "source": [
    "plt.figure(figsize=(6.5,5))\n",
    "plt.plot([1,2,3,4],ssspfm_hawk.values(),'bo')\n",
    "plt.plot([1,2,3,4],ssspfm_hawk.values(),'b--')\n",
    "plt.xlabel(\"LLC Associativity\\n(Cache Size is Constant)\")\n",
    "plt.xticks([1,2,3,4],[16,32,64,128])\n",
    "plt.ylabel(\"IPC\")\n",
    "plt.title(\"SSSP 14 BOP_FM Hawkeye\")\n",
    "plt.savefig(\"sssp_llc_assoc.jpg\",dpi=200)\n",
    "plt.close()\n",
    ";\n"
   ]
  },
  {
   "cell_type": "code",
   "execution_count": 393,
   "metadata": {},
   "outputs": [
    {
     "data": {
      "text/plain": [
       "''"
      ]
     },
     "execution_count": 393,
     "metadata": {},
     "output_type": "execute_result"
    }
   ],
   "source": [
    "plt.figure(figsize=(6.5,5))\n",
    "plt.plot([1,2,3,4],bfsfm_hawk.values(),'bo')\n",
    "plt.plot([1,2,3,4],bfsfm_hawk.values(),'b--')\n",
    "plt.xlabel(\"LLC Associativity\\n(Cache Size is Constant)\")\n",
    "plt.xticks([1,2,3,4],[16,32,64,128])\n",
    "plt.ylabel(\"IPC\")\n",
    "plt.title(\"BFS 14 BOP_FM Hawkeye\")\n",
    "plt.savefig(\"bfs_llc_assoc.jpg\",dpi=200)\n",
    "plt.close()\n",
    ";\n"
   ]
  },
  {
   "attachments": {},
   "cell_type": "markdown",
   "metadata": {},
   "source": [
    "#### BFS plot"
   ]
  },
  {
   "cell_type": "code",
   "execution_count": 4,
   "metadata": {},
   "outputs": [
    {
     "data": {
      "text/plain": [
       "''"
      ]
     },
     "execution_count": 4,
     "metadata": {},
     "output_type": "execute_result"
    }
   ],
   "source": [
    "plt.figure(figsize=(10,5))\n",
    "obj1=bfs_fm_repl\n",
    "obj={k:v for k,v in sorted(obj1.items(), key=lambda item: item[1])}\n",
    "num_bars=len(obj1)\n",
    "gradient_range = np.linspace(0.3, 1, num_bars)\n",
    "colors = plt.cm.Blues(gradient_range)\n",
    "cmap = mcolors.ListedColormap(colors)\n",
    "y=np.array(list(obj.values()))/BASE_BFS\n",
    "plt.bar([i for i in range(len(obj))],y, color=cmap(gradient_range))\n",
    "if(min(y)>0):\n",
    "    lowerlim=0.999*min(y)\n",
    "else:\n",
    "    lowerlim=1.01*min(y)\n",
    "plt.ylim(lowerlim,1.01*max(y))\n",
    "plt.xlabel(\"Replacement Policies\")\n",
    "plt.ylabel(\"Relative Speedup\")\n",
    "plt.xticks([i for i in range(num_bars)], obj.keys())\n",
    "plt.title(\"BFS-14 Trace\");\n",
    "plt.savefig(\"bfs_fm_repl.jpg\",dpi=200)\n",
    "plt.close()\n",
    ";\n"
   ]
  },
  {
   "cell_type": "code",
   "execution_count": 5,
   "metadata": {},
   "outputs": [
    {
     "data": {
      "text/plain": [
       "''"
      ]
     },
     "execution_count": 5,
     "metadata": {},
     "output_type": "execute_result"
    }
   ],
   "source": [
    "plt.figure(figsize=(10,5))\n",
    "obj1={\"berti\":  0.383126, \"bop\":0.404577, \"ipcp\":0.402819, \"next line\":0.354392, \"pangloss\":0.43354, \n",
    "             \"sangam\":0.404559, \"spp\": 0.39047, \"tskid\": 0.392695}\n",
    "obj={k:v for k,v in sorted(obj1.items(), key=lambda item: item[1])}\n",
    "num_bars=len(obj1)\n",
    "gradient_range = np.linspace(0.3, 1, num_bars)\n",
    "colors = plt.cm.Blues(gradient_range)\n",
    "cmap = mcolors.ListedColormap(colors)\n",
    "y=np.array(list(obj.values()))/BASE_BFS\n",
    "plt.bar([i for i in range(len(obj))],y, color=cmap(gradient_range))\n",
    "if(min(y)>0):\n",
    "    lowerlim=0.999*min(y)\n",
    "else:\n",
    "    lowerlim=1.01*min(y)\n",
    "plt.ylim(lowerlim,1.01*max(y))\n",
    "plt.xlabel(\"Prefetcher Policies\")\n",
    "plt.ylabel(\"Relative Speedup\")\n",
    "plt.xticks([i for i in range(num_bars)], obj.keys())\n",
    "plt.title(\"BFS-14 Trace with Mockingjay Replacement\");\n",
    "plt.savefig(\"bfs_pref_mj.jpg\",dpi=200)\n",
    "plt.close()\n",
    ";\n"
   ]
  },
  {
   "cell_type": "code",
   "execution_count": 396,
   "metadata": {},
   "outputs": [],
   "source": [
    "sssp_fm_mj_way={\"Base\":0.389391, \"L2W16\":0.405323,\"LLCW32\":0.635707, }\n",
    "sssp_fm_mj_llc_set={\"Base\":0.389391, \"LLCS2\":0.631568,\"LLCS4\":0.721074,\"LLCS8\":0.726258,  }\n",
    "sssp_fm_mj_l2_set={\"Base\":0.389391, \"L2S2\":0.402733, \"L2S4\":0.447275}"
   ]
  },
  {
   "cell_type": "code",
   "execution_count": 397,
   "metadata": {},
   "outputs": [],
   "source": [
    "plt.plot([1,2,3],sssp_fm_mj_l2_set.values(),'bo')\n",
    "plt.plot([1,2,3],sssp_fm_mj_l2_set.values(),'b--')\n",
    "plt.xlabel(\"L2C Set\")\n",
    "plt.ylabel(\"IPC\")\n",
    "plt.xticks([1,2,3],[\"Base\", 2048, 4096])\n",
    "plt.title(\"SSSP 14-BOP_FM-MockingJay\")\n",
    "plt.savefig(\"sssp_fm_mj_l2_set.jpg\",dpi=200)\n",
    "plt.close();"
   ]
  },
  {
   "cell_type": "code",
   "execution_count": 398,
   "metadata": {},
   "outputs": [],
   "source": [
    "plt.bar([0.5,1,1.5],sssp_fm_mj_way.values(),width=0.2, color=\"orange\")\n",
    "# plt.plot([1,2,3],sssp_fm_mj_l2_set.values(),'b--')\n",
    "plt.xlabel(\"Associativity\")\n",
    "plt.ylabel(\"IPC\")\n",
    "plt.xticks([0.5,1,1.5],[\"L2 8-LLC 16\", \"L2 16-LLC 16\", \"L2 8-LLC 32\"])\n",
    "plt.title(\"SSSP 14-BOP_FM-MockingJay\")\n",
    "plt.ylim(0.35,0.65)\n",
    "plt.savefig(\"sssp_fm_mj_way.jpg\",dpi=200)\n",
    "plt.close();"
   ]
  },
  {
   "cell_type": "code",
   "execution_count": 399,
   "metadata": {},
   "outputs": [],
   "source": [
    "plt.bar([0.5,1,1.5,2],sssp_fm_mj_llc_set.values(),width=0.2, color=\"orange\")\n",
    "# plt.plot([1,2,3],sssp_fm_mj_l2_set.values(),'b--')\n",
    "plt.xlabel(\"LLC Set\")\n",
    "plt.ylabel(\"IPC\")\n",
    "plt.xticks([0.5,1,1.5,2],[2048,4096,8192,16384])\n",
    "plt.title(\"SSSP 14-BOP_FM-MockingJay\")\n",
    "plt.ylim(0.35,0.75)\n",
    "plt.savefig(\"sssp_fm_mj_llc_set.jpg\",dpi=200)\n",
    "plt.close();"
   ]
  },
  {
   "cell_type": "code",
   "execution_count": 400,
   "metadata": {},
   "outputs": [],
   "source": [
    "bfs_fm_mj_size={\"LLC*8\":0.427754, \"LLC*16\":0.446, \"L2S*8\":0.405331, \"Base\":0.404577}\n",
    "bfs_bop_comp={\"L2-BOP\":0.32991,\"L2-BOP_FM\":0.335558, \"BOTH-BOP\":0.392052, \"BOTH-BOP_FM\": 0.398455, \"BOTH_BOP_FM56\": 0.398225}\n"
   ]
  },
  {
   "cell_type": "code",
   "execution_count": 401,
   "metadata": {},
   "outputs": [],
   "source": [
    "plt.figure(figsize=(7,5))\n",
    "plt.plot([i for i in range(len(bfs_bop_comp))],bfs_bop_comp.values(),'bo')\n",
    "plt.plot([i for i in range(len(bfs_bop_comp))],bfs_bop_comp.values(),'b--')\n",
    "plt.xlabel(\"Prefetcher Policy Variation\")\n",
    "plt.ylabel(\"IPC\")\n",
    "plt.title(\"BFS14-LRU-Comparison of BOP\")\n",
    "plt.xticks([i for i in range(len(bfs_bop_comp))],bfs_bop_comp.keys())\n",
    "plt.savefig(\"bfs_bop_comp.jpg\",dpi=200)\n",
    "plt.close();\n"
   ]
  },
  {
   "cell_type": "code",
   "execution_count": 402,
   "metadata": {},
   "outputs": [],
   "source": [
    "# MAX_RD changed to INF_RD(127) - i\n",
    "a1={\"INF_RD - 1\": 0.381734, \"DEF=(INF_RD - 22)\": 0.382324, \"INF_RD - 40\": 0.382628, \n",
    "\"INF_RD - 70\": 0.384637, \"INF_RD - 100\": 0.386057, \"INF_RD - 110\": 0.38626}\n",
    "\n",
    "#Penalty factor changed from 2 to i\n",
    "a2={\"1\": 0.371677, \"DEF=2\": 0.382324, \"3\": 0.386394, \"4\": 0.386975, \"10\": 0.390438, \"20\": 0.390438}"
   ]
  },
  {
   "cell_type": "code",
   "execution_count": 403,
   "metadata": {},
   "outputs": [],
   "source": [
    "plt.figure(figsize=(6,5))\n",
    "plt.plot([i for i in range(len(a1))], a1.values(), 'bo')\n",
    "plt.plot([i for i in range(len(a1))], a1.values(), 'b--')\n",
    "plt.xlabel(\"MAX_RD Values\")\n",
    "plt.ylabel(\"IPC\")\n",
    "plt.xticks([i for i in range(len(a1))], a1.keys(), rotation=90)\n",
    "plt.title(\"SSSP 14-Mockingjay-Pangloss\")\n",
    "plt.vlines([i for i in range(len(a1))], [0.381 for i in range(len(a1))],a1.values(), colors=\"blue\")\n",
    "plt.savefig(\"inf_rd.jpg\",dpi=200, bbox_inches = 'tight')\n",
    "plt.close();\n"
   ]
  },
  {
   "cell_type": "code",
   "execution_count": 404,
   "metadata": {},
   "outputs": [],
   "source": [
    "plt.figure(figsize=(6.5,5))\n",
    "plt.plot([i for i in range(len(a2))], a2.values(), 'bo')\n",
    "plt.plot([i for i in range(len(a2))], a2.values(), 'b--')\n",
    "plt.xlabel(\"Penalty Factor\")\n",
    "plt.ylabel(\"IPC\")\n",
    "plt.xticks([i for i in range(len(a2))], a2.keys(), rotation=0)\n",
    "plt.title(\"SSSP 14-Mockingjay-Pangloss\")\n",
    "plt.vlines([i for i in range(len(a2))], [0.37 for i in range(len(a2))],a2.values(), colors=\"blue\")\n",
    "plt.savefig(\"penalty_fac.jpg\",dpi=200)\n",
    "plt.close();\n"
   ]
  },
  {
   "cell_type": "code",
   "execution_count": 12,
   "metadata": {},
   "outputs": [],
   "source": [
    "\n",
    "plt.bar([i-0.2 for i in range(2)],np.array([bfs_pang_hawk,bfs_fm_hawk])/BASE_BFS,0.4)\n",
    "plt.bar([i+0.2 for i in range(2)],np.array([bfs_pang_mj,bfs_fm_mj])/BASE_BFS,0.4)\n",
    "plt.xlabel(\"Prefetcher\")\n",
    "plt.ylabel(\"Relative Speedup w.r.t Baseline\")\n",
    "plt.title(\"Hawkeye vs MockingJay & Pangloss vs BOP_FM\")\n",
    "plt.xticks([0,1], [\"Pangloss\",\"BOP_FM\"])\n",
    "plt.legend([\"Hawkeye\", \"Mockingjay_OPT\"])\n",
    "plt.ylim(2.2,2.6)\n",
    "plt.savefig(\"pang_fm_hawk_mj.jpg\",dpi=200)\n",
    "plt.close();\n"
   ]
  },
  {
   "cell_type": "code",
   "execution_count": 17,
   "metadata": {},
   "outputs": [],
   "source": [
    "# a3={ \"LLC-2048\":0.197543,\"LLC-4096\":0.198148, \"LLC-8192\":0.197177, \"LLC-16384\":0.219054,\"LLC-32768\": 0.313204,\n",
    "#     \"LLC-2048\\nNo L2\":0.192131,\"LLC-4096\\nNo L2\":0.19077, \"LLC-8192\\nNo L2\":0.211115,}\n",
    "a3={ \"LLC-2048\":0.197543,\"LLC-4096\":0.198148, \"LLC-8192\":0.199177, \"LLC-16384\":0.219054,}\n",
    "a3={k:v for k,v in sorted(a3.items(), key=lambda item: item[1])}"
   ]
  },
  {
   "cell_type": "code",
   "execution_count": 19,
   "metadata": {},
   "outputs": [
    {
     "data": {
      "text/plain": [
       "''"
      ]
     },
     "execution_count": 19,
     "metadata": {},
     "output_type": "execute_result"
    }
   ],
   "source": [
    "plt.figure(figsize=(8.5,5))\n",
    "plt.plot([i for i in range(len(a3))],a3.values(),'bo')\n",
    "plt.plot([i for i in range(len(a3))],a3.values(),'b--')\n",
    "plt.vlines([i for i in range(len(a3))], [0.19 for i in range(len(a3))],a3.values(), colors=\"blue\")\n",
    "plt.xlabel(\"Sets\")\n",
    "plt.ylabel(\"IPC\")\n",
    "plt.xticks([i for i in range(len(a3))],a3.keys())\n",
    "plt.ylim(0.195,0.220)\n",
    "plt.title(\"BFS_14-NO_PREF-LRU\\nCache Size Variation\")\n",
    "plt.savefig(\"bfs_cache_size.jpg\",dpi=200)\n",
    "plt.close()\n",
    ";"
   ]
  },
  {
   "cell_type": "code",
   "execution_count": 408,
   "metadata": {},
   "outputs": [],
   "source": [
    "a4={\"FIFO\": 0.432449, \"LFU\": 0.400233, \"DEFAULT\": 0.432449, \"PRE\": 0.432927, \"MOD\": 0.429658}\n",
    "a5={\"FIFO\": 0.363604, \"LFU\": 0.318824, \"DEFAULT\": 0.363604, \"PRE\": 0.362127, \"MOD\": 0.320807}\n",
    "a4={k:v for k,v in sorted(a4.items(), key=lambda item: item[1])}\n",
    "a5={k:v for k,v in sorted(a5.items(), key=lambda item: item[1])}"
   ]
  },
  {
   "cell_type": "code",
   "execution_count": 409,
   "metadata": {},
   "outputs": [
    {
     "data": {
      "text/plain": [
       "''"
      ]
     },
     "execution_count": 409,
     "metadata": {},
     "output_type": "execute_result"
    }
   ],
   "source": [
    "plt.plot([i for i in range(len(a4))],a4.values(),'bo')\n",
    "plt.plot([i for i in range(len(a4))],a4.values(),'b--')\n",
    "plt.xticks([i for i in range(len(a4))], a4.keys())\n",
    "# plt.vlines([i for i in range(len(a4))], [0.39 for i in range(len(a4))],a4.values(), colors=\"blue\")\n",
    "plt.xlabel(\"Hawkeye Policy Modification\")\n",
    "plt.ylabel(\"IPC\")\n",
    "plt.title(\"BFS 14-Pangloss-Hawkeye\")\n",
    "plt.savefig(\"hawkeye_mod_bfs.jpg\",dpi=200)\n",
    "plt.close()\n",
    ";"
   ]
  },
  {
   "cell_type": "code",
   "execution_count": 410,
   "metadata": {},
   "outputs": [
    {
     "data": {
      "text/plain": [
       "''"
      ]
     },
     "execution_count": 410,
     "metadata": {},
     "output_type": "execute_result"
    }
   ],
   "source": [
    "plt.plot([i for i in range(len(a5))],a5.values(),'bo')\n",
    "plt.plot([i for i in range(len(a5))],a5.values(),'b--')\n",
    "plt.xticks([i for i in range(len(a5))], a5.keys())\n",
    "plt.xlabel(\"Hawkeye Policy Modification\")\n",
    "plt.ylabel(\"IPC\")\n",
    "plt.title(\"SSSP 14-Pangloss-Hawkeye\")\n",
    "plt.savefig(\"hawkeye_mod_sssp.jpg\",dpi=200)\n",
    "plt.close()\n",
    ";"
   ]
  },
  {
   "cell_type": "code",
   "execution_count": 3,
   "metadata": {},
   "outputs": [
    {
     "data": {
      "text/plain": [
       "''"
      ]
     },
     "execution_count": 3,
     "metadata": {},
     "output_type": "execute_result"
    },
    {
     "data": {
      "image/png": "[encoded data removed]",
      "text/plain": [
       "<Figure size 432x288 with 1 Axes>"
      ]
     },
     "metadata": {
      "needs_background": "light"
     },
     "output_type": "display_data"
    }
   ],
   "source": [
    "a7={\"L2\":0.197543,\"L2*2\":0.198333,\"L2*4\":0.199515,\"L2*8\":0.199106,\"L2*16\":0.198014 }\n",
    "plt.bar([i for i in range(len(a7))],a7.values())\n",
    "# plt.plot([i for i in range(len(a7))],a7.values(),'b--')\n",
    "plt.xticks([i for i in range(len(a7))], a7.keys())\n",
    "plt.xlabel(\"Set Size\")\n",
    "plt.ylabel(\"IPC\")\n",
    "plt.title(\"BFS 14-Baseline Config-Varying L2C Size\")\n",
    "plt.ylim(0.18,0.2)\n",
    "plt.savefig(\"bfs_l2c-set.jpg\",dpi=200,bbox_inches=\"tight\")\n",
    "# plt.close()\n",
    ";"
   ]
  },
  {
   "cell_type": "code",
   "execution_count": 16,
   "metadata": {},
   "outputs": [
    {
     "data": {
      "text/plain": [
       "''"
      ]
     },
     "execution_count": 16,
     "metadata": {},
     "output_type": "execute_result"
    }
   ],
   "source": [
    "\n",
    "plt.bar([i-0.2 for i in range(2)],np.array([sssp_fm_repl[\"mockingjay\"],bfs_fm_mj])/BASE_BFS,0.4)\n",
    "plt.bar([i+0.2 for i in range(2)],np.array([sssp_pang_repl[\"mockingjay\"],bfs_pang_mj])/BASE_BFS,0.4)\n",
    "plt.xlabel(\"Traces\")\n",
    "plt.ylabel(\"Relative Speedup w.r.t Baseline\")\n",
    "plt.title(\"Pangloss vs BOP_FM\\nMockingJay_OPT replacement used\")\n",
    "plt.xticks([0,1], [\"BFS-14\",\"SSSP-14\"])\n",
    "plt.legend([\"BOP_FM\", \"Pangloss\"])\n",
    "plt.ylim(2.2,2.6)\n",
    "plt.savefig(\"conc.jpg\",dpi=200,bbox_inches=\"tight\")\n",
    "plt.close();\n",
    ";\n"
   ]
  },
  {
   "cell_type": "code",
   "execution_count": null,
   "metadata": {},
   "outputs": [],
   "source": []
  }
 ],
 "metadata": {
  "kernelspec": {
   "display_name": "base",
   "language": "python",
   "name": "python3"
  },
  "language_info": {
   "codemirror_mode": {
    "name": "ipython",
    "version": 3
   },
   "file_extension": ".py",
   "mimetype": "text/x-python",
   "name": "python",
   "nbconvert_exporter": "python",
   "pygments_lexer": "ipython3",
   "version": "3.9.7"
  },
  "orig_nbformat": 4
 },
 "nbformat": 4,
 "nbformat_minor": 2
}
